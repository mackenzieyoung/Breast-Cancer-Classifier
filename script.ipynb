{
 "cells": [
  {
   "cell_type": "code",
   "execution_count": 47,
   "metadata": {},
   "outputs": [],
   "source": [
    "import sklearn\n",
    "from sklearn import datasets"
   ]
  },
  {
   "cell_type": "markdown",
   "metadata": {},
   "source": [
    "Let's begin by making an empty script.py file and then importing the breast cancer data from `sklearn`. We want to import the function `load_breast_cancer` from `sklearn.datasets`.\n",
    "Once we've imported the dataset, let's load the data into a variable called `breast_cancer_data`. Do this by setting `breast_cancer_data` equal to the function `load_breast_cancer()`."
   ]
  },
  {
   "cell_type": "code",
   "execution_count": 10,
   "metadata": {},
   "outputs": [],
   "source": [
    "breast_cancer_data = datasets.load_breast_cancer()"
   ]
  },
  {
   "cell_type": "markdown",
   "metadata": {},
   "source": [
    "Before jumping into creating our classifier, let's take a look at the data. Begin by printing `breast_cancer_data.data[0]`. That's the first datapoint in our set. But what do all of those numbers represent? Let's also print `breast_cancer_data.feature_names`."
   ]
  },
  {
   "cell_type": "code",
   "execution_count": 11,
   "metadata": {},
   "outputs": [
    {
     "data": {
      "text/plain": [
       "array([  1.79900000e+01,   1.03800000e+01,   1.22800000e+02,\n",
       "         1.00100000e+03,   1.18400000e-01,   2.77600000e-01,\n",
       "         3.00100000e-01,   1.47100000e-01,   2.41900000e-01,\n",
       "         7.87100000e-02,   1.09500000e+00,   9.05300000e-01,\n",
       "         8.58900000e+00,   1.53400000e+02,   6.39900000e-03,\n",
       "         4.90400000e-02,   5.37300000e-02,   1.58700000e-02,\n",
       "         3.00300000e-02,   6.19300000e-03,   2.53800000e+01,\n",
       "         1.73300000e+01,   1.84600000e+02,   2.01900000e+03,\n",
       "         1.62200000e-01,   6.65600000e-01,   7.11900000e-01,\n",
       "         2.65400000e-01,   4.60100000e-01,   1.18900000e-01])"
      ]
     },
     "execution_count": 11,
     "metadata": {},
     "output_type": "execute_result"
    }
   ],
   "source": [
    "breast_cancer_data.data[0]"
   ]
  },
  {
   "cell_type": "code",
   "execution_count": 12,
   "metadata": {},
   "outputs": [
    {
     "name": "stdout",
     "output_type": "stream",
     "text": [
      "['mean radius' 'mean texture' 'mean perimeter' 'mean area'\n",
      " 'mean smoothness' 'mean compactness' 'mean concavity'\n",
      " 'mean concave points' 'mean symmetry' 'mean fractal dimension'\n",
      " 'radius error' 'texture error' 'perimeter error' 'area error'\n",
      " 'smoothness error' 'compactness error' 'concavity error'\n",
      " 'concave points error' 'symmetry error' 'fractal dimension error'\n",
      " 'worst radius' 'worst texture' 'worst perimeter' 'worst area'\n",
      " 'worst smoothness' 'worst compactness' 'worst concavity'\n",
      " 'worst concave points' 'worst symmetry' 'worst fractal dimension']\n"
     ]
    }
   ],
   "source": [
    "print breast_cancer_data.feature_names"
   ]
  },
  {
   "cell_type": "markdown",
   "metadata": {},
   "source": [
    "We now have a sense of what the data looks like, but what are we trying to classify? Let's print both `breast_cancer_data.target` and `breast_cancer_data.target_names`.\n",
    "Was the very first data point tagged as malignant or benign?"
   ]
  },
  {
   "cell_type": "code",
   "execution_count": 13,
   "metadata": {},
   "outputs": [
    {
     "name": "stdout",
     "output_type": "stream",
     "text": [
      "[0 0 0 0 0 0 0 0 0 0 0 0 0 0 0 0 0 0 0 1 1 1 0 0 0 0 0 0 0 0 0 0 0 0 0 0 0\n",
      " 1 0 0 0 0 0 0 0 0 1 0 1 1 1 1 1 0 0 1 0 0 1 1 1 1 0 1 0 0 1 1 1 1 0 1 0 0\n",
      " 1 0 1 0 0 1 1 1 0 0 1 0 0 0 1 1 1 0 1 1 0 0 1 1 1 0 0 1 1 1 1 0 1 1 0 1 1\n",
      " 1 1 1 1 1 1 0 0 0 1 0 0 1 1 1 0 0 1 0 1 0 0 1 0 0 1 1 0 1 1 0 1 1 1 1 0 1\n",
      " 1 1 1 1 1 1 1 1 0 1 1 1 1 0 0 1 0 1 1 0 0 1 1 0 0 1 1 1 1 0 1 1 0 0 0 1 0\n",
      " 1 0 1 1 1 0 1 1 0 0 1 0 0 0 0 1 0 0 0 1 0 1 0 1 1 0 1 0 0 0 0 1 1 0 0 1 1\n",
      " 1 0 1 1 1 1 1 0 0 1 1 0 1 1 0 0 1 0 1 1 1 1 0 1 1 1 1 1 0 1 0 0 0 0 0 0 0\n",
      " 0 0 0 0 0 0 0 1 1 1 1 1 1 0 1 0 1 1 0 1 1 0 1 0 0 1 1 1 1 1 1 1 1 1 1 1 1\n",
      " 1 0 1 1 0 1 0 1 1 1 1 1 1 1 1 1 1 1 1 1 1 0 1 1 1 0 1 0 1 1 1 1 0 0 0 1 1\n",
      " 1 1 0 1 0 1 0 1 1 1 0 1 1 1 1 1 1 1 0 0 0 1 1 1 1 1 1 1 1 1 1 1 0 0 1 0 0\n",
      " 0 1 0 0 1 1 1 1 1 0 1 1 1 1 1 0 1 1 1 0 1 1 0 0 1 1 1 1 1 1 0 1 1 1 1 1 1\n",
      " 1 0 1 1 1 1 1 0 1 1 0 1 1 1 1 1 1 1 1 1 1 1 1 0 1 0 0 1 0 1 1 1 1 1 0 1 1\n",
      " 0 1 0 1 1 0 1 0 1 1 1 1 1 1 1 1 0 0 1 1 1 1 1 1 0 1 1 1 1 1 1 1 1 1 1 0 1\n",
      " 1 1 1 1 1 1 0 1 0 1 1 0 1 1 1 1 1 0 0 1 0 1 0 1 1 1 1 1 0 1 1 0 1 0 1 0 0\n",
      " 1 1 1 0 1 1 1 1 1 1 1 1 1 1 1 0 1 0 0 1 1 1 1 1 1 1 1 1 1 1 1 1 1 1 1 1 1\n",
      " 1 1 1 1 1 1 1 0 0 0 0 0 0 1]\n"
     ]
    }
   ],
   "source": [
    "print breast_cancer_data.target"
   ]
  },
  {
   "cell_type": "code",
   "execution_count": 14,
   "metadata": {},
   "outputs": [
    {
     "name": "stdout",
     "output_type": "stream",
     "text": [
      "['malignant' 'benign']\n"
     ]
    }
   ],
   "source": [
    "print breast_cancer_data.target_names"
   ]
  },
  {
   "cell_type": "markdown",
   "metadata": {},
   "source": [
    "The very first data point was tagged as malignant, because it is coded as 0."
   ]
  },
  {
   "cell_type": "markdown",
   "metadata": {},
   "source": [
    "We have our data, but now it needs to be split into training and validation sets. Luckily, sklearn has a function that does that for us. Begin by importing the `train_test_split` function from `sklearn.model_selection`."
   ]
  },
  {
   "cell_type": "code",
   "execution_count": 17,
   "metadata": {},
   "outputs": [],
   "source": [
    "from sklearn.model_selection import train_test_split"
   ]
  },
  {
   "cell_type": "markdown",
   "metadata": {},
   "source": [
    "Call the train_test_split function. It takes several parameters:  \n",
    "● The data you want to split (for us `breast_cancer_data.data`)  \n",
    "● The labels associated with that data (for us, `breast_cancer_data.target`).  \n",
    "● The `train_size`. This is what percentage of your data you want to be in your training set. Let's use `train_size = 0.8`  \n",
    "● `random_state`. This will ensure that every time you run your code, the data is split in the same way. This can be any number. We used `random_state = 100`.\n"
   ]
  },
  {
   "cell_type": "code",
   "execution_count": 23,
   "metadata": {},
   "outputs": [
    {
     "data": {
      "text/plain": [
       "[array([[  1.30500000e+01,   1.93100000e+01,   8.26100000e+01, ...,\n",
       "           1.11100000e-02,   2.43900000e-01,   6.28900000e-02],\n",
       "        [  1.28800000e+01,   2.89200000e+01,   8.25000000e+01, ...,\n",
       "           6.49300000e-02,   2.37200000e-01,   7.24200000e-02],\n",
       "        [  1.57500000e+01,   1.92200000e+01,   1.07100000e+02, ...,\n",
       "           2.13500000e-01,   4.24500000e-01,   1.05000000e-01],\n",
       "        ..., \n",
       "        [  1.16600000e+01,   1.70700000e+01,   7.37000000e+01, ...,\n",
       "           4.26200000e-02,   2.73100000e-01,   6.82500000e-02],\n",
       "        [  1.28600000e+01,   1.80000000e+01,   8.31900000e+01, ...,\n",
       "           7.92600000e-02,   2.77900000e-01,   7.91800000e-02],\n",
       "        [  9.29500000e+00,   1.39000000e+01,   5.99600000e+01, ...,\n",
       "           7.26200000e-02,   3.68100000e-01,   8.98200000e-02]]),\n",
       " array([[  1.79100000e+01,   2.10200000e+01,   1.24400000e+02, ...,\n",
       "           1.96400000e-01,   3.24500000e-01,   1.19800000e-01],\n",
       "        [  1.43400000e+01,   1.34700000e+01,   9.25100000e+01, ...,\n",
       "           1.08700000e-01,   3.06200000e-01,   6.07200000e-02],\n",
       "        [  2.01600000e+01,   1.96600000e+01,   1.31100000e+02, ...,\n",
       "           1.42500000e-01,   3.05500000e-01,   5.93300000e-02],\n",
       "        ..., \n",
       "        [  1.30300000e+01,   1.84200000e+01,   8.26100000e+01, ...,\n",
       "           5.01300000e-02,   1.98700000e-01,   6.16900000e-02],\n",
       "        [  1.82500000e+01,   1.99800000e+01,   1.19600000e+02, ...,\n",
       "           1.93200000e-01,   3.06300000e-01,   8.36800000e-02],\n",
       "        [  9.84700000e+00,   1.56800000e+01,   6.30000000e+01, ...,\n",
       "           6.52800000e-02,   2.50200000e-01,   9.20900000e-02]]),\n",
       " array([1, 1, 0, 1, 1, 1, 0, 1, 1, 0, 1, 1, 1, 1, 1, 1, 1, 1, 0, 1, 1, 0, 1,\n",
       "        1, 1, 1, 0, 0, 1, 1, 1, 1, 0, 0, 0, 1, 0, 0, 0, 0, 1, 0, 0, 0, 1, 1,\n",
       "        1, 1, 1, 1, 1, 1, 0, 0, 1, 0, 1, 0, 0, 1, 1, 1, 1, 1, 1, 1, 1, 1, 1,\n",
       "        1, 1, 0, 1, 1, 0, 1, 1, 0, 1, 1, 1, 0, 0, 1, 1, 1, 1, 0, 1, 1, 0, 0,\n",
       "        1, 0, 0, 0, 1, 1, 1, 0, 1, 1, 0, 0, 0, 1, 1, 1, 0, 1, 1, 1, 1, 1, 1,\n",
       "        1, 1, 0, 0, 0, 1, 1, 0, 0, 1, 1, 1, 1, 0, 0, 0, 0, 1, 0, 0, 1, 1, 0,\n",
       "        0, 0, 1, 1, 1, 0, 1, 0, 1, 1, 1, 1, 1, 1, 1, 1, 1, 0, 1, 1, 0, 0, 1,\n",
       "        1, 1, 1, 1, 1, 1, 1, 0, 1, 1, 1, 0, 1, 1, 1, 1, 0, 0, 0, 1, 1, 0, 1,\n",
       "        0, 0, 1, 1, 0, 0, 1, 1, 1, 0, 1, 1, 1, 1, 0, 1, 1, 1, 0, 1, 1, 1, 1,\n",
       "        1, 1, 1, 0, 1, 1, 0, 1, 1, 1, 1, 1, 1, 1, 1, 0, 1, 1, 1, 0, 0, 0, 0,\n",
       "        1, 1, 1, 1, 1, 0, 0, 1, 0, 1, 1, 0, 1, 1, 1, 0, 1, 1, 1, 1, 1, 1, 1,\n",
       "        0, 1, 0, 1, 0, 1, 1, 1, 1, 1, 0, 1, 1, 1, 1, 0, 1, 1, 1, 0, 0, 1, 0,\n",
       "        1, 1, 1, 0, 1, 0, 1, 1, 1, 0, 0, 1, 0, 1, 1, 0, 0, 1, 1, 1, 1, 1, 1,\n",
       "        1, 1, 0, 1, 0, 0, 1, 0, 1, 0, 0, 1, 0, 0, 0, 0, 1, 0, 1, 1, 0, 1, 0,\n",
       "        1, 1, 0, 1, 0, 1, 1, 1, 0, 1, 0, 1, 0, 0, 1, 0, 1, 1, 1, 1, 0, 0, 1,\n",
       "        1, 1, 1, 0, 1, 0, 1, 1, 1, 1, 1, 1, 1, 1, 0, 1, 0, 1, 1, 0, 1, 1, 0,\n",
       "        0, 0, 0, 1, 1, 1, 1, 0, 0, 1, 1, 0, 1, 0, 0, 1, 1, 1, 1, 1, 1, 0, 0,\n",
       "        1, 0, 1, 1, 1, 0, 0, 0, 0, 0, 1, 1, 1, 0, 1, 0, 0, 1, 0, 1, 0, 0, 1,\n",
       "        1, 1, 1, 0, 0, 0, 1, 1, 1, 1, 0, 0, 1, 0, 1, 0, 0, 1, 1, 1, 0, 1, 0,\n",
       "        1, 1, 0, 0, 0, 1, 1, 0, 1, 1, 1, 1, 0, 1, 0, 1, 1, 1]),\n",
       " array([0, 1, 0, 1, 1, 1, 0, 0, 0, 1, 1, 0, 0, 0, 1, 0, 0, 1, 1, 1, 1, 1, 0,\n",
       "        0, 0, 0, 1, 1, 1, 1, 1, 1, 1, 0, 0, 1, 1, 1, 1, 0, 0, 1, 1, 0, 1, 0,\n",
       "        1, 1, 1, 1, 0, 1, 1, 0, 1, 1, 1, 0, 1, 1, 0, 0, 1, 1, 0, 1, 0, 0, 1,\n",
       "        0, 0, 1, 0, 0, 1, 1, 1, 0, 0, 1, 1, 0, 0, 0, 1, 0, 0, 1, 0, 1, 1, 1,\n",
       "        1, 0, 1, 0, 0, 1, 0, 0, 0, 0, 1, 1, 1, 1, 1, 1, 1, 1, 0, 1, 0, 1])]"
      ]
     },
     "execution_count": 23,
     "metadata": {},
     "output_type": "execute_result"
    }
   ],
   "source": [
    "train_test_split(breast_cancer_data.data, breast_cancer_data.target, train_size = 0.8, random_state = 100)"
   ]
  },
  {
   "cell_type": "markdown",
   "metadata": {},
   "source": [
    "Right now we're not storing the return value of train_test_split. train_test_split returns four values in the following order:  \n",
    "● The training set  \n",
    "● The validation set  \n",
    "● The training labels  \n",
    "● The validation labels  \n",
    "Store those values in variables named `training_data`, `validation_data`, `training_labels`, and `validation labels`.\n"
   ]
  },
  {
   "cell_type": "code",
   "execution_count": 24,
   "metadata": {
    "collapsed": true
   },
   "outputs": [],
   "source": [
    "training_data = train_test_split(breast_cancer_data.data, breast_cancer_data.target, train_size = 0.8, random_state = 100)[0]"
   ]
  },
  {
   "cell_type": "code",
   "execution_count": 25,
   "metadata": {
    "collapsed": true
   },
   "outputs": [],
   "source": [
    "validation_data = train_test_split(breast_cancer_data.data, breast_cancer_data.target, train_size = 0.8, random_state = 100)[1]"
   ]
  },
  {
   "cell_type": "code",
   "execution_count": 26,
   "metadata": {
    "collapsed": true
   },
   "outputs": [],
   "source": [
    "training_labels = train_test_split(breast_cancer_data.data, breast_cancer_data.target, train_size = 0.8, random_state = 100)[2]"
   ]
  },
  {
   "cell_type": "code",
   "execution_count": 27,
   "metadata": {
    "collapsed": true
   },
   "outputs": [],
   "source": [
    "validation_labels = train_test_split(breast_cancer_data.data, breast_cancer_data.target, train_size = 0.8, random_state = 100)[3]"
   ]
  },
  {
   "cell_type": "markdown",
   "metadata": {},
   "source": [
    "Let's confirm that worked correctly. Print out the length of `training_data` and `training_labels`. They should be the same size - one label for every piece of data!\n"
   ]
  },
  {
   "cell_type": "code",
   "execution_count": 28,
   "metadata": {},
   "outputs": [
    {
     "name": "stdout",
     "output_type": "stream",
     "text": [
      "455\n"
     ]
    }
   ],
   "source": [
    "print len(training_data)"
   ]
  },
  {
   "cell_type": "code",
   "execution_count": 30,
   "metadata": {},
   "outputs": [
    {
     "name": "stdout",
     "output_type": "stream",
     "text": [
      "455\n"
     ]
    }
   ],
   "source": [
    "print len(training_labels)"
   ]
  },
  {
   "cell_type": "markdown",
   "metadata": {},
   "source": [
    "Now that we've created training and validation sets, we can create a `KNeighborsClassifier` and test its accuracy. Begin by importing `KNeighborsClassifier` from `sklearn.neighbors`.\n"
   ]
  },
  {
   "cell_type": "code",
   "execution_count": 33,
   "metadata": {
    "collapsed": true
   },
   "outputs": [],
   "source": [
    "from sklearn.neighbors import KNeighborsClassifier"
   ]
  },
  {
   "cell_type": "markdown",
   "metadata": {},
   "source": [
    "Create a `KNeighborsClassifier` where `n_neighbors = 3`. Name the classifier `classifier`"
   ]
  },
  {
   "cell_type": "code",
   "execution_count": 34,
   "metadata": {
    "collapsed": true
   },
   "outputs": [],
   "source": [
    "classifier = KNeighborsClassifier(n_neighbors = 3)"
   ]
  },
  {
   "cell_type": "markdown",
   "metadata": {},
   "source": [
    "Train your classifier using the `fit` function. This function takes two parameters: the training set and the training labels."
   ]
  },
  {
   "cell_type": "code",
   "execution_count": 35,
   "metadata": {},
   "outputs": [
    {
     "data": {
      "text/plain": [
       "KNeighborsClassifier(algorithm='auto', leaf_size=30, metric='minkowski',\n",
       "           metric_params=None, n_jobs=1, n_neighbors=3, p=2,\n",
       "           weights='uniform')"
      ]
     },
     "execution_count": 35,
     "metadata": {},
     "output_type": "execute_result"
    }
   ],
   "source": [
    "classifier.fit(training_data, training_labels)"
   ]
  },
  {
   "cell_type": "markdown",
   "metadata": {},
   "source": [
    "Now that the classifier has been trained, let's find how accurate it is on the validation set. Call the classifier's `score` function. score takes two parameters: the validation set and the validation labels. Print the result!\n"
   ]
  },
  {
   "cell_type": "code",
   "execution_count": 37,
   "metadata": {},
   "outputs": [
    {
     "name": "stdout",
     "output_type": "stream",
     "text": [
      "0.947368421053\n"
     ]
    }
   ],
   "source": [
    "print classifier.score(validation_data, validation_labels)"
   ]
  },
  {
   "cell_type": "markdown",
   "metadata": {},
   "source": [
    "The classifier does pretty well when `k = 3`. But maybe there's a better `k`! Put the previous 3 lines of code inside a for loop. The loop should have a variable named `k` that starts at `1` and increases to `100`. Rather than `n_neighbors` always being `3`, it should be this new variable `k`.\n",
    "You should now see 100 different validation accuracies print out. Which `k` seems the best?\n"
   ]
  },
  {
   "cell_type": "code",
   "execution_count": 45,
   "metadata": {},
   "outputs": [
    {
     "name": "stdout",
     "output_type": "stream",
     "text": [
      "1 0.929824561404\n",
      "2 0.938596491228\n",
      "3 0.947368421053\n",
      "4 0.947368421053\n",
      "5 0.947368421053\n",
      "6 0.947368421053\n",
      "7 0.947368421053\n",
      "8 0.947368421053\n",
      "9 0.956140350877\n",
      "10 0.956140350877\n",
      "11 0.956140350877\n",
      "12 0.956140350877\n",
      "13 0.956140350877\n",
      "14 0.956140350877\n",
      "15 0.956140350877\n",
      "16 0.956140350877\n",
      "17 0.956140350877\n",
      "18 0.956140350877\n",
      "19 0.956140350877\n",
      "20 0.956140350877\n",
      "21 0.956140350877\n",
      "22 0.956140350877\n",
      "23 0.964912280702\n",
      "24 0.964912280702\n",
      "25 0.956140350877\n",
      "26 0.956140350877\n",
      "27 0.956140350877\n",
      "28 0.956140350877\n",
      "29 0.947368421053\n",
      "30 0.947368421053\n",
      "31 0.947368421053\n",
      "32 0.947368421053\n",
      "33 0.947368421053\n",
      "34 0.947368421053\n",
      "35 0.947368421053\n",
      "36 0.947368421053\n",
      "37 0.956140350877\n",
      "38 0.956140350877\n",
      "39 0.956140350877\n",
      "40 0.956140350877\n",
      "41 0.956140350877\n",
      "42 0.956140350877\n",
      "43 0.956140350877\n",
      "44 0.947368421053\n",
      "45 0.956140350877\n",
      "46 0.947368421053\n",
      "47 0.956140350877\n",
      "48 0.956140350877\n",
      "49 0.956140350877\n",
      "50 0.956140350877\n",
      "51 0.947368421053\n",
      "52 0.947368421053\n",
      "53 0.947368421053\n",
      "54 0.956140350877\n",
      "55 0.956140350877\n",
      "56 0.964912280702\n",
      "57 0.947368421053\n",
      "58 0.947368421053\n",
      "59 0.938596491228\n",
      "60 0.929824561404\n",
      "61 0.929824561404\n",
      "62 0.938596491228\n",
      "63 0.947368421053\n",
      "64 0.938596491228\n",
      "65 0.938596491228\n",
      "66 0.938596491228\n",
      "67 0.938596491228\n",
      "68 0.938596491228\n",
      "69 0.938596491228\n",
      "70 0.938596491228\n",
      "71 0.938596491228\n",
      "72 0.938596491228\n",
      "73 0.938596491228\n",
      "74 0.938596491228\n",
      "75 0.938596491228\n",
      "76 0.938596491228\n",
      "77 0.929824561404\n",
      "78 0.929824561404\n",
      "79 0.929824561404\n",
      "80 0.929824561404\n",
      "81 0.921052631579\n",
      "82 0.929824561404\n",
      "83 0.921052631579\n",
      "84 0.938596491228\n",
      "85 0.929824561404\n",
      "86 0.938596491228\n",
      "87 0.938596491228\n",
      "88 0.938596491228\n",
      "89 0.929824561404\n",
      "90 0.929824561404\n",
      "91 0.921052631579\n",
      "92 0.938596491228\n",
      "93 0.921052631579\n",
      "94 0.929824561404\n",
      "95 0.929824561404\n",
      "96 0.938596491228\n",
      "97 0.929824561404\n",
      "98 0.938596491228\n",
      "99 0.929824561404\n",
      "100 0.929824561404\n"
     ]
    }
   ],
   "source": [
    "for k in range(1,101):\n",
    "    classifier = KNeighborsClassifier(n_neighbors = k)\n",
    "    classifier.fit(training_data, training_labels)\n",
    "    print k, classifier.score(validation_data, validation_labels)"
   ]
  },
  {
   "cell_type": "markdown",
   "metadata": {},
   "source": [
    "The best `k`s are 23, 24, and 56"
   ]
  },
  {
   "cell_type": "markdown",
   "metadata": {},
   "source": [
    "We now have the validation accuracy for 100 different `k`s. Rather than just printing it out, let's make a graph using matplotlib. Begin by importing `matplotlib.pyplot` as `plt`.\n"
   ]
  },
  {
   "cell_type": "code",
   "execution_count": 46,
   "metadata": {
    "collapsed": true
   },
   "outputs": [],
   "source": [
    "import matplotlib.pyplot as plt"
   ]
  },
  {
   "cell_type": "markdown",
   "metadata": {},
   "source": [
    "The x-axis should be the values of `k` that we tested. This should be a list of numbers between `1` and `100`. You can use the `range` function to make this list. Store it in a variable named `k_list`.\n"
   ]
  },
  {
   "cell_type": "code",
   "execution_count": 48,
   "metadata": {
    "collapsed": true
   },
   "outputs": [],
   "source": [
    "k_list = range(1,101)"
   ]
  },
  {
   "cell_type": "markdown",
   "metadata": {},
   "source": [
    "The y-axis of our graph should be the validation accuracy. Instead of printing the validation accuracies, we want to add them to a list. Outside of the for loop, create an empty list named `accuracies`. Inside the for loop, instead of printing each accuracy, append it to `accuracies`.\n"
   ]
  },
  {
   "cell_type": "code",
   "execution_count": 51,
   "metadata": {},
   "outputs": [],
   "source": [
    "accuracies = []\n",
    "for k in k_list:\n",
    "    classifier = KNeighborsClassifier(n_neighbors = k)\n",
    "    classifier.fit(training_data, training_labels)\n",
    "    accuracies.append(classifier.score(validation_data, validation_labels))"
   ]
  },
  {
   "cell_type": "markdown",
   "metadata": {},
   "source": [
    "We can now plot our data! Call `plt.plot()`. The first parameter should be `k_list` and the second parameter should be `accuracies`.\n",
    "After plotting the graph, show it using `plt.show()`.\n"
   ]
  },
  {
   "cell_type": "code",
   "execution_count": 53,
   "metadata": {},
   "outputs": [
    {
     "data": {
      "image/png": "[encoded data removed]",
      "text/plain": [
       "<matplotlib.figure.Figure at 0x106285850>"
      ]
     },
     "metadata": {},
     "output_type": "display_data"
    }
   ],
   "source": [
    "plt.plot(k_list, accuracies)\n",
    "plt.show()"
   ]
  },
  {
   "cell_type": "markdown",
   "metadata": {},
   "source": [
    "Let's add some labels and a title. Set the x-axis label to `\"k\"` using `plt.xlabel()`. Set the y-axis label to `\"Validation Accuracy\"`. Set the title to `\"Breast Cancer Classifier Accuracy\"`.\n"
   ]
  },
  {
   "cell_type": "code",
   "execution_count": 57,
   "metadata": {},
   "outputs": [
    {
     "data": {
      "image/png": "[encoded data removed]",
      "text/plain": [
       "<matplotlib.figure.Figure at 0x1084e9850>"
      ]
     },
     "metadata": {},
     "output_type": "display_data"
    }
   ],
   "source": [
    "plt.plot(k_list, accuracies)\n",
    "plt.xlabel(\"k\")\n",
    "plt.ylabel(\"Validation Accuracy\")\n",
    "plt.title(\"Breast Cancer Classifier Accuracy\")\n",
    "plt.show()"
   ]
  },
  {
   "cell_type": "markdown",
   "metadata": {},
   "source": [
    "Great work! If you want to play around with this more, try changing the `random_state` parameter when making the training set and validation set. This will change which points are in the training set and which are in the validation set.\n",
    "Ideally, the graph will look the same no matter how you split up the training set and test set. This data set is fairly small, so there is slightly more variance than usual.\n",
    "Submit your completed script.py file when you are ready.\n"
   ]
  },
  {
   "cell_type": "code",
   "execution_count": 65,
   "metadata": {
    "collapsed": true
   },
   "outputs": [],
   "source": [
    "tts = train_test_split(breast_cancer_data.data, breast_cancer_data.target, train_size = 0.8, random_state = 1)\n",
    "training_data = tts[0]\n",
    "validation_data = tts[1]\n",
    "training_labels = tts[2]\n",
    "validation_labels = tts[3]"
   ]
  },
  {
   "cell_type": "code",
   "execution_count": 66,
   "metadata": {},
   "outputs": [],
   "source": [
    "accuracies = []\n",
    "for k in k_list:\n",
    "    classifier = KNeighborsClassifier(n_neighbors = k)\n",
    "    classifier.fit(training_data, training_labels)\n",
    "    accuracies.append(classifier.score(validation_data, validation_labels))"
   ]
  },
  {
   "cell_type": "code",
   "execution_count": 67,
   "metadata": {},
   "outputs": [
    {
     "data": {
      "image/png": "[encoded data removed]",
      "text/plain": [
       "<matplotlib.figure.Figure at 0x1088dc950>"
      ]
     },
     "metadata": {},
     "output_type": "display_data"
    }
   ],
   "source": [
    "plt.plot(k_list, accuracies)\n",
    "plt.xlabel(\"k\")\n",
    "plt.ylabel(\"Validation Accuracy\")\n",
    "plt.title(\"Breast Cancer Classifier Accuracy\")\n",
    "plt.show()"
   ]
  },
  {
   "cell_type": "code",
   "execution_count": null,
   "metadata": {
    "collapsed": true
   },
   "outputs": [],
   "source": []
  }
 ],
 "metadata": {
  "kernelspec": {
   "display_name": "Python 2",
   "language": "python",
   "name": "python2"
  },
  "language_info": {
   "codemirror_mode": {
    "name": "ipython",
    "version": 2
   },
   "file_extension": ".py",
   "mimetype": "text/x-python",
   "name": "python",
   "nbconvert_exporter": "python",
   "pygments_lexer": "ipython2",
   "version": "2.7.13"
  }
 },
 "nbformat": 4,
 "nbformat_minor": 2
}
